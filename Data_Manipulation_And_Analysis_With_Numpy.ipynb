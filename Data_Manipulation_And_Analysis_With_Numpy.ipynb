{
  "nbformat": 4,
  "nbformat_minor": 0,
  "metadata": {
    "colab": {
      "provenance": []
    },
    "kernelspec": {
      "name": "python3",
      "display_name": "Python 3"
    },
    "language_info": {
      "name": "python"
    }
  },
  "cells": [
    {
      "cell_type": "markdown",
      "source": [
        "Numpy(Numerical Python) is a fundamental package for scientifc computing with Python,provides support for arrays, matrices and a large collection of mathematical functions to operate on these data structures\n",
        "\n",
        "Numpy arrays are more efficient and have better performance for numerical operations compared to Python's built in lists.\n",
        "\n",
        "Array Object in NumpPy is called ndArray."
      ],
      "metadata": {
        "id": "AjCjFr3OrjEY"
      }
    },
    {
      "cell_type": "code",
      "source": [
        "pip install numpy"
      ],
      "metadata": {
        "colab": {
          "base_uri": "https://localhost:8080/"
        },
        "id": "if05VffcAFin",
        "outputId": "c38ae849-3449-47b3-de9b-3dfd84a3badf"
      },
      "execution_count": 3,
      "outputs": [
        {
          "output_type": "stream",
          "name": "stdout",
          "text": [
            "Requirement already satisfied: numpy in /usr/local/lib/python3.10/dist-packages (1.25.2)\n"
          ]
        }
      ]
    },
    {
      "cell_type": "code",
      "source": [
        "import numpy as np"
      ],
      "metadata": {
        "id": "fAO0OAUS5aiQ"
      },
      "execution_count": 6,
      "outputs": []
    },
    {
      "cell_type": "code",
      "source": [
        "#Creating numpy array from list\n",
        "\n",
        "arr1=np.array([1,2,3,4,5])\n",
        "print(arr1)\n",
        "\n",
        "#2d array\n",
        "arr2=np.array([[1,2,3],[4,5,6]])  #each element is a 1D array\n",
        "print(arr2)"
      ],
      "metadata": {
        "colab": {
          "base_uri": "https://localhost:8080/"
        },
        "id": "MAg9VSTj-BcH",
        "outputId": "c6a9bbff-9902-456d-ab2e-05fdf3ffcb34"
      },
      "execution_count": 7,
      "outputs": [
        {
          "output_type": "stream",
          "name": "stdout",
          "text": [
            "[1 2 3 4 5]\n",
            "[[1 2 3]\n",
            " [4 5 6]]\n"
          ]
        }
      ]
    },
    {
      "cell_type": "code",
      "source": [
        "arr3=np.array(['a','b'])\n",
        "print(arr3)"
      ],
      "metadata": {
        "colab": {
          "base_uri": "https://localhost:8080/"
        },
        "id": "3NKJeOvrPgsU",
        "outputId": "d424cfb2-566e-47ce-b877-44cf1737c92e"
      },
      "execution_count": 8,
      "outputs": [
        {
          "output_type": "stream",
          "name": "stdout",
          "text": [
            "['a' 'b']\n"
          ]
        }
      ]
    },
    {
      "cell_type": "markdown",
      "source": [
        "Creating Arrays with functions"
      ],
      "metadata": {
        "id": "6UNrH921RU_6"
      }
    },
    {
      "cell_type": "code",
      "source": [
        "#Creating an array with zero\n",
        "\n",
        "zero_array=np.zeros((2,3))\n",
        "print(zero_array)"
      ],
      "metadata": {
        "colab": {
          "base_uri": "https://localhost:8080/"
        },
        "id": "1LPefQMTRYE2",
        "outputId": "d10acaeb-97ea-41d5-ea07-563616f33d9e"
      },
      "execution_count": 9,
      "outputs": [
        {
          "output_type": "stream",
          "name": "stdout",
          "text": [
            "[[0. 0. 0.]\n",
            " [0. 0. 0.]]\n"
          ]
        }
      ]
    },
    {
      "cell_type": "code",
      "source": [
        "one_array=np.ones((2,3))\n",
        "print(one_array)"
      ],
      "metadata": {
        "colab": {
          "base_uri": "https://localhost:8080/"
        },
        "id": "yaQRJ5McR-G7",
        "outputId": "d36b48b9-76be-4a2e-fa20-fb4db6118c3e"
      },
      "execution_count": 11,
      "outputs": [
        {
          "output_type": "stream",
          "name": "stdout",
          "text": [
            "[[1. 1. 1.]\n",
            " [1. 1. 1.]]\n"
          ]
        }
      ]
    },
    {
      "cell_type": "code",
      "source": [
        "#Creating an array with a range of values\n",
        "range_arr=np.arange(1,10,2) #arange(start,stop,step)\n",
        "print(range_arr)"
      ],
      "metadata": {
        "colab": {
          "base_uri": "https://localhost:8080/"
        },
        "id": "C7YcPZUwSEI-",
        "outputId": "0800fc39-1d85-4964-879a-31df7ceee2e0"
      },
      "execution_count": 14,
      "outputs": [
        {
          "output_type": "stream",
          "name": "stdout",
          "text": [
            "[1 3 5 7 9]\n"
          ]
        }
      ]
    },
    {
      "cell_type": "code",
      "source": [
        "random_arr=np.random.rand(2,2)  # 0 to 1 float numbers ( 2 rows, 2 cols)\n",
        "print(random_arr)"
      ],
      "metadata": {
        "colab": {
          "base_uri": "https://localhost:8080/"
        },
        "id": "fuIgHSEhSjJ0",
        "outputId": "2f9da145-a72b-4755-ce16-44d961b384b9"
      },
      "execution_count": 16,
      "outputs": [
        {
          "output_type": "stream",
          "name": "stdout",
          "text": [
            "[[0.75855615 0.5448122 ]\n",
            " [0.93292296 0.25439625]]\n"
          ]
        }
      ]
    },
    {
      "cell_type": "markdown",
      "source": [
        "Basic Array Operations- Element wise Operations"
      ],
      "metadata": {
        "id": "ripu1QW6TDiR"
      }
    },
    {
      "cell_type": "code",
      "source": [
        "arr=np.array([1,2,3,4,5])\n",
        "print(arr[0])\n",
        "print(arr + 2 )\n",
        "print(arr[1:3])"
      ],
      "metadata": {
        "colab": {
          "base_uri": "https://localhost:8080/"
        },
        "id": "E0UN6lxPTH2B",
        "outputId": "a260ba4f-be6f-4252-c09d-391e28b0bbf8"
      },
      "execution_count": 21,
      "outputs": [
        {
          "output_type": "stream",
          "name": "stdout",
          "text": [
            "1\n",
            "[3 4 5 6 7]\n",
            "[2 3]\n"
          ]
        }
      ]
    },
    {
      "cell_type": "code",
      "source": [
        "for i in arr:\n",
        "  print(i)"
      ],
      "metadata": {
        "colab": {
          "base_uri": "https://localhost:8080/"
        },
        "id": "E6P2-isKTSi5",
        "outputId": "c7ed1f09-1b5e-4bf0-ce5d-5f2c873ad58c"
      },
      "execution_count": 22,
      "outputs": [
        {
          "output_type": "stream",
          "name": "stdout",
          "text": [
            "1\n",
            "2\n",
            "3\n",
            "4\n",
            "5\n"
          ]
        }
      ]
    },
    {
      "cell_type": "code",
      "source": [
        "print(\"Square of the array: \", arr*arr)"
      ],
      "metadata": {
        "colab": {
          "base_uri": "https://localhost:8080/"
        },
        "id": "50TVPsToTs_8",
        "outputId": "6ad7761a-34c6-4c3b-9e47-be4fbbf84bca"
      },
      "execution_count": 25,
      "outputs": [
        {
          "output_type": "stream",
          "name": "stdout",
          "text": [
            "Square of the array:  [ 1  4  9 16 25]\n"
          ]
        }
      ]
    },
    {
      "cell_type": "markdown",
      "source": [
        "Mathematical Functions"
      ],
      "metadata": {
        "id": "IUichgftT6Ys"
      }
    },
    {
      "cell_type": "code",
      "source": [
        "print(np.sqrt(arr))\n",
        "print(np.exp(arr))\n",
        "print(np.log(arr))\n",
        "print(np.sin(arr))"
      ],
      "metadata": {
        "colab": {
          "base_uri": "https://localhost:8080/"
        },
        "id": "QuKyfzDAUKKh",
        "outputId": "98ea04cd-f01d-4aab-e1c8-0eadc5a15d69"
      },
      "execution_count": 28,
      "outputs": [
        {
          "output_type": "stream",
          "name": "stdout",
          "text": [
            "[1.         1.41421356 1.73205081 2.         2.23606798]\n",
            "[  2.71828183   7.3890561   20.08553692  54.59815003 148.4131591 ]\n",
            "[0.         0.69314718 1.09861229 1.38629436 1.60943791]\n",
            "[ 0.84147098  0.90929743  0.14112001 -0.7568025  -0.95892427]\n"
          ]
        }
      ]
    },
    {
      "cell_type": "markdown",
      "source": [
        "** Indexing and Slicing **"
      ],
      "metadata": {
        "id": "XphJrmW9Udql"
      }
    },
    {
      "cell_type": "code",
      "source": [
        "print(arr[-1:-6:-1])\n",
        "print(arr[:-3:-1])"
      ],
      "metadata": {
        "colab": {
          "base_uri": "https://localhost:8080/"
        },
        "id": "EnoPUrkbUqXt",
        "outputId": "38734c78-62db-4ed5-cace-ae7f10f3a311"
      },
      "execution_count": 40,
      "outputs": [
        {
          "output_type": "stream",
          "name": "stdout",
          "text": [
            "[5 4 3 2 1]\n",
            "[5 4]\n"
          ]
        }
      ]
    },
    {
      "cell_type": "markdown",
      "source": [
        "Advanced Indexing"
      ],
      "metadata": {
        "id": "HXrsehCHU-n6"
      }
    },
    {
      "cell_type": "code",
      "source": [
        "print(arr[arr > 3]) #Boolean Indexing\n",
        "\n",
        " #Fancy indexing\n",
        "indices=[1,4,3]\n",
        "print(arr[indices])"
      ],
      "metadata": {
        "colab": {
          "base_uri": "https://localhost:8080/"
        },
        "id": "DO6XOhdNVtNQ",
        "outputId": "6f0b36bf-4a13-493c-d553-2a54121b5d0e"
      },
      "execution_count": 43,
      "outputs": [
        {
          "output_type": "stream",
          "name": "stdout",
          "text": [
            "[4 5]\n",
            "[2 5 4]\n"
          ]
        }
      ]
    },
    {
      "cell_type": "markdown",
      "source": [
        "Resahping and Transposing - Reshaping Arrays"
      ],
      "metadata": {
        "id": "b92mUuN6V5xn"
      }
    },
    {
      "cell_type": "code",
      "source": [
        "arr= np.array([[1,2,3],[4,5,6]])\n",
        "print(arr)\n",
        "reshaped = arr.reshape(1,6) #reshape(rows*col)\n",
        "print(reshaped)"
      ],
      "metadata": {
        "colab": {
          "base_uri": "https://localhost:8080/"
        },
        "id": "yWgRHs1dWBRw",
        "outputId": "56c8ebc5-81d6-4d5e-c303-32fdbb41890a"
      },
      "execution_count": 48,
      "outputs": [
        {
          "output_type": "stream",
          "name": "stdout",
          "text": [
            "[[1 2 3]\n",
            " [4 5 6]]\n",
            "[[1 2 3 4 5 6]]\n"
          ]
        }
      ]
    },
    {
      "cell_type": "markdown",
      "source": [
        "Transposing"
      ],
      "metadata": {
        "id": "vKfBBnrPWl2F"
      }
    },
    {
      "cell_type": "code",
      "source": [
        "arr= np.array([[1,2,3],[4,5,6]])\n",
        "transpose=arr.T\n",
        "print(transpose)"
      ],
      "metadata": {
        "colab": {
          "base_uri": "https://localhost:8080/"
        },
        "id": "n1aIKja9XAcE",
        "outputId": "1c56453e-2bb9-44b2-ca6e-f4c88a57296d"
      },
      "execution_count": 50,
      "outputs": [
        {
          "output_type": "stream",
          "name": "stdout",
          "text": [
            "[[1 4]\n",
            " [2 5]\n",
            " [3 6]]\n"
          ]
        }
      ]
    },
    {
      "cell_type": "markdown",
      "source": [
        "Aggregation Function - Sum and Mean"
      ],
      "metadata": {
        "id": "sXjlDkQcbLsm"
      }
    },
    {
      "cell_type": "code",
      "source": [
        "arr= np.array([[1,2,3],[4,5,6]])\n",
        "print(np.sum(arr))"
      ],
      "metadata": {
        "colab": {
          "base_uri": "https://localhost:8080/"
        },
        "id": "wS3YO21XbSM6",
        "outputId": "548671ed-86fb-44a7-831c-ea0d89d77b6d"
      },
      "execution_count": 52,
      "outputs": [
        {
          "output_type": "stream",
          "name": "stdout",
          "text": [
            "21\n"
          ]
        }
      ]
    },
    {
      "cell_type": "code",
      "source": [
        "#Sum along Columns\n",
        "print(np.sum(arr,axis=0))\n",
        "\n",
        "#sum along rows\n",
        "print(np.sum(arr,axis=1))"
      ],
      "metadata": {
        "colab": {
          "base_uri": "https://localhost:8080/"
        },
        "id": "gMU6Noqmbugk",
        "outputId": "2708480c-62c9-4857-aa6d-02effcbb70b4"
      },
      "execution_count": 54,
      "outputs": [
        {
          "output_type": "stream",
          "name": "stdout",
          "text": [
            "[5 7 9]\n",
            "[ 6 15]\n"
          ]
        }
      ]
    },
    {
      "cell_type": "code",
      "source": [
        "print(np.mean(arr))\n",
        "print(np.mean(arr,axis=1))"
      ],
      "metadata": {
        "colab": {
          "base_uri": "https://localhost:8080/"
        },
        "id": "pmd-hFUVb42u",
        "outputId": "2856f849-453b-4f87-dea2-1ee1c874aef8"
      },
      "execution_count": 56,
      "outputs": [
        {
          "output_type": "stream",
          "name": "stdout",
          "text": [
            "3.5\n",
            "[2. 5.]\n"
          ]
        }
      ]
    },
    {
      "cell_type": "code",
      "source": [
        "print(np.min(arr))\n",
        "print(np.min(arr,axis=1))"
      ],
      "metadata": {
        "colab": {
          "base_uri": "https://localhost:8080/"
        },
        "id": "qBN6q7akcfiN",
        "outputId": "9049b029-fe45-4732-c632-52d1dbdef43c"
      },
      "execution_count": 59,
      "outputs": [
        {
          "output_type": "stream",
          "name": "stdout",
          "text": [
            "1\n",
            "[1 4]\n"
          ]
        }
      ]
    },
    {
      "cell_type": "code",
      "source": [
        "#index of min value\n",
        "\n",
        "print(np.argmin(arr))\n",
        "print(np.argmax(arr))"
      ],
      "metadata": {
        "colab": {
          "base_uri": "https://localhost:8080/"
        },
        "id": "KHk1mdH1cvse",
        "outputId": "f14013a5-2503-49bd-b8ad-e43be3974060"
      },
      "execution_count": 61,
      "outputs": [
        {
          "output_type": "stream",
          "name": "stdout",
          "text": [
            "0\n",
            "5\n"
          ]
        }
      ]
    }
  ]
}